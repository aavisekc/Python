{
 "cells": [
  {
   "cell_type": "code",
   "execution_count": 3,
   "metadata": {},
   "outputs": [
    {
     "name": "stdout",
     "output_type": "stream",
     "text": [
      "[30 66 13  0 77  3 34  2 87 87]\n"
     ]
    }
   ],
   "source": [
    "# Declarace a integar array of any random 10 numbers\n",
    "import numpy as np  # import numpy library\n",
    "# create an array of 10 random integers\n",
    "arr = np.random.randint(0, 100, 10)\n",
    "# print the array\n",
    "print(arr)\n"
   ]
  },
  {
   "cell_type": "code",
   "execution_count": 3,
   "metadata": {},
   "outputs": [
    {
     "name": "stdout",
     "output_type": "stream",
     "text": [
      "[2, 7, 11, 15]\n",
      "(2, 3)\n"
     ]
    }
   ],
   "source": [
    "# print the array\n",
    "arr=[2,7,11,15]\n",
    "print(arr)\n",
    "\n",
    "# find two numbers in the array such that sum is equal to target number and return the indices of two numbers\n",
    "def two_sum(arr, target_number):\n",
    "    for i in range(len(arr)):\n",
    "        for j in range(i+1, len(arr)):\n",
    "            if arr[i] + arr[j] == target_number:\n",
    "                return i, j\n",
    "    return None\n",
    "\n",
    "target_number=26\n",
    "# print the result of the two_sum function\n",
    "print(two_sum(arr, target_number))"
   ]
  },
  {
   "cell_type": "code",
   "execution_count": 18,
   "metadata": {},
   "outputs": [
    {
     "name": "stdout",
     "output_type": "stream",
     "text": [
      "[2, 7, 11, 15]\n",
      "(2, 3)\n"
     ]
    }
   ],
   "source": [
    "arr=[2,7,11,15]\n",
    "class Solution:\n",
    "    # find two numbers in the array such that sum is equal to target number and return the indices of two numbers\n",
    "    \n",
    "    def two_sum(self, arr, target_number):\n",
    "        for i in range(len(arr)):\n",
    "            for j in range(i+1, len(arr)):\n",
    "                if arr[i] + arr[j] == target_number:\n",
    "                    return i, j\n",
    "        return None\n",
    "\n",
    "# print the array\n",
    "print(arr)\n",
    "\n",
    "target_number = 26\n",
    "# create an instance of the Solution class\n",
    "solution = Solution()\n",
    "# print the result of the two_sum function\n",
    "print(solution.two_sum(arr, target_number))\n",
    "        "
   ]
  },
  {
   "cell_type": "markdown",
   "metadata": {},
   "source": [
    "The active selection is a Python code snippet that demonstrates how to solve the \"two sum\" problem using a class-based approach. The goal of the \"two sum\" problem is to find two numbers in an array that add up to a specified target number and return their indices.\n",
    "\n",
    "The code begins by defining an array `arr` with the values `[2, 7, 11, 15]`. This array will be used as the input for the `two_sum` method.\n",
    "\n",
    "Next, a class named `Solution` is defined. Inside this class, there is a method called `two_sum` that takes two parameters: `arr`, which is the array of numbers, and `target_number`, which is the target sum we are looking for. The method uses a nested loop to iterate through the array. The outer loop runs from the first element to the second-to-last element, while the inner loop runs from the element after the current element of the outer loop to the last element. For each pair of elements, the method checks if their sum equals the target number. If a matching pair is found, the method returns their indices as a tuple `(i, j)`. If no such pair is found after all iterations, the method returns `None`.\n",
    "\n",
    "After defining the class, the code prints the array `arr` to the console. It then sets the `target_number` to 26, which is the sum we are trying to find in the array.\n",
    "\n",
    "An instance of the `Solution` class is created and stored in the variable `solution`. The `two_sum` method is then called on this instance with `arr` and `target_number` as arguments. Finally, the result of the `two_sum` method call is printed to the console.\n",
    "\n",
    "This code provides a straightforward implementation of the \"two sum\" problem using a brute-force approach, where all possible pairs of elements in the array are checked to find the pair that sums to the target number."
   ]
  },
  {
   "cell_type": "code",
   "execution_count": 9,
   "metadata": {},
   "outputs": [],
   "source": [
    "class Solution(object):\n",
    "    def twoSum(self, nums, target):\n",
    "        \"\"\"\n",
    "        :type nums: List[int]\n",
    "        :type target: int\n",
    "        :rtype: List[int]\n",
    "        \"\"\"\n",
    "        for i in range(len(nums)):\n",
    "            for j in range(i+1, len(nums)):\n",
    "                if nums[i] + nums[j] == target:\n",
    "                    return i, j\n",
    "        return None\n",
    "    "
   ]
  },
  {
   "cell_type": "code",
   "execution_count": 23,
   "metadata": {},
   "outputs": [
    {
     "name": "stdout",
     "output_type": "stream",
     "text": [
      "(2, 11)\n"
     ]
    }
   ],
   "source": [
    "arr = [2, 7, 11, 15]\n",
    "\n",
    "def find_num(target_number):\n",
    "    for i in range(len(arr)):\n",
    "        for j in range(i+1, len(arr)):\n",
    "            if arr[j] == target_number:\n",
    "                return (j), (arr[j])\n",
    "    return None\n",
    "\n",
    "print(find_num(11))\n"
   ]
  }
 ],
 "metadata": {
  "kernelspec": {
   "display_name": "Python 3",
   "language": "python",
   "name": "python3"
  },
  "language_info": {
   "codemirror_mode": {
    "name": "ipython",
    "version": 3
   },
   "file_extension": ".py",
   "mimetype": "text/x-python",
   "name": "python",
   "nbconvert_exporter": "python",
   "pygments_lexer": "ipython3",
   "version": "3.12.3"
  }
 },
 "nbformat": 4,
 "nbformat_minor": 2
}
