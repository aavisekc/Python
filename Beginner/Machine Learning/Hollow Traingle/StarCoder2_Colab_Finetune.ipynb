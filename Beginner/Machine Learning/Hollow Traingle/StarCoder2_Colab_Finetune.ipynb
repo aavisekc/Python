{
 "cells": [
  {
   "cell_type": "markdown",
   "id": "044ee74d",
   "metadata": {},
   "source": [
    "# 🔧 Fine-tune StarCoder2 on Google Colab\n",
    "This notebook fine-tunes [StarCoder2](https://huggingface.co/bigcode/starcoder2-3b) on your own dataset to generate hollow triangle patterns."
   ]
  },
  {
   "cell_type": "code",
   "execution_count": null,
   "id": "3244a309",
   "metadata": {},
   "outputs": [],
   "source": [
    "# ⚙️ Install dependencies\n",
    "!pip install transformers datasets accelerate\n"
   ]
  },
  {
   "cell_type": "code",
   "execution_count": null,
   "id": "6b0937d7",
   "metadata": {},
   "outputs": [],
   "source": [
    "# 📁 Upload your files: trainer.py and hollow_triangle_data.jsonl\n",
    "from google.colab import files\n",
    "uploaded = files.upload()\n"
   ]
  },
  {
   "cell_type": "code",
   "execution_count": null,
   "id": "24edcd0f",
   "metadata": {},
   "outputs": [],
   "source": [
    "# 🚀 Run the fine-tuning script\n",
    "!python trainer.py\n"
   ]
  },
  {
   "cell_type": "code",
   "execution_count": null,
   "id": "aca1a09e",
   "metadata": {},
   "outputs": [],
   "source": [
    "# 💾 Zip and download the fine-tuned model\n",
    "import shutil\n",
    "from google.colab import files\n",
    "\n",
    "shutil.make_archive(\"hollow_triangle_model\", 'zip', \"hollow_triangle_model\")\n",
    "files.download(\"hollow_triangle_model.zip\")\n"
   ]
  },
  {
   "cell_type": "code",
   "execution_count": null,
   "id": "84cf16e4",
   "metadata": {},
   "outputs": [],
   "source": [
    "# (Optional) ⬆️ Push model to Hugging Face Hub\n",
    "# Make sure you have a Hugging Face account and a model repo created.\n",
    "\n",
    "from huggingface_hub import login\n",
    "login()\n",
    "\n",
    "from transformers import AutoModelForCausalLM, AutoTokenizer\n",
    "\n",
    "model = AutoModelForCausalLM.from_pretrained(\"hollow_triangle_model\")\n",
    "tokenizer = AutoTokenizer.from_pretrained(\"hollow_triangle_model\")\n",
    "\n",
    "model.push_to_hub(\"your-username/hollow-triangle-model\")\n",
    "tokenizer.push_to_hub(\"your-username/hollow-triangle-model\")\n"
   ]
  }
 ],
 "metadata": {
  "language_info": {
   "name": "python"
  }
 },
 "nbformat": 4,
 "nbformat_minor": 5
}
